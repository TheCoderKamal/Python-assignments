{
 "cells": [
  {
   "cell_type": "markdown",
   "metadata": {},
   "source": [
    "# Module 3: Data Structures Assignments\n",
    "## Lesson 3.1: Lists"
   ]
  },
  {
   "cell_type": "markdown",
   "id": "0e731606",
   "metadata": {},
   "source": [
    "### Assignment 1: Creating and Accessing Lists\n",
    "\n",
    "Create a list of the first 20 positive integers. Print the list."
   ]
  },
  {
   "cell_type": "code",
   "execution_count": 2,
   "metadata": {},
   "outputs": [
    {
     "name": "stdout",
     "output_type": "stream",
     "text": [
      "[1, 2, 3, 4, 5, 6, 7, 8, 9, 10, 11, 12, 13, 14, 15, 16, 17, 18, 19, 20]\n"
     ]
    }
   ],
   "source": [
    "first_20_positive_integer = [num for num in range(1, 21)]\n",
    "print(first_20_positive_integer)"
   ]
  },
  {
   "cell_type": "markdown",
   "id": "e63b9878",
   "metadata": {},
   "source": [
    "### Assignment 2: Accessing List Elements\n",
    "\n",
    "Print the first, middle, and last elements of the list created in Assignment 1."
   ]
  },
  {
   "cell_type": "code",
   "execution_count": 3,
   "id": "009759d2",
   "metadata": {},
   "outputs": [
    {
     "name": "stdout",
     "output_type": "stream",
     "text": [
      "1\n",
      "11\n",
      "20\n"
     ]
    }
   ],
   "source": [
    "first_index = 0\n",
    "middle_index = len(first_20_positive_integer) // 2\n",
    "last_index = len(first_20_positive_integer) - 1\n",
    "\n",
    "print(first_20_positive_integer[first_index])\n",
    "print(first_20_positive_integer[middle_index])\n",
    "print(first_20_positive_integer[last_index])"
   ]
  },
  {
   "cell_type": "markdown",
   "id": "4735030f",
   "metadata": {},
   "source": [
    "### Assignment 3: List Slicing\n",
    "\n",
    "Print the first five elements, the last five elements, and the elements from index 5 to 15 of the list created in Assignment 1."
   ]
  },
  {
   "cell_type": "code",
   "execution_count": 50,
   "id": "6df43797",
   "metadata": {},
   "outputs": [
    {
     "name": "stdout",
     "output_type": "stream",
     "text": [
      "[1, 2, 3, 4, 5]\n",
      "[16, 17, 18, 19, 20]\n",
      "[6, 7, 8, 9, 10, 11, 12, 13, 14, 15]\n"
     ]
    }
   ],
   "source": [
    "first_five = first_20_positive_integer[0:5]\n",
    "last_five = first_20_positive_integer[-5:]\n",
    "remaining_elements = first_20_positive_integer[5:15]\n",
    "\n",
    "print(first_five)\n",
    "print(last_five)\n",
    "print(remaining_elements)\n"
   ]
  },
  {
   "cell_type": "markdown",
   "id": "5b4021ef",
   "metadata": {},
   "source": [
    "### Assignment 4: List Comprehensions\n",
    "\n",
    "Create a new list containing the squares of the first 10 positive integers using a list comprehension. Print the new list."
   ]
  },
  {
   "cell_type": "code",
   "execution_count": 7,
   "id": "ea19119f",
   "metadata": {},
   "outputs": [
    {
     "name": "stdout",
     "output_type": "stream",
     "text": [
      "[0, 1, 4, 9, 16, 25, 36, 49, 64, 81, 100]\n"
     ]
    }
   ],
   "source": [
    "square_of_elements = [num ** 2 for num in range(11)]\n",
    "print(square_of_elements)"
   ]
  },
  {
   "cell_type": "markdown",
   "id": "4a5b714f",
   "metadata": {},
   "source": [
    "### Assignment 5: Filtering Lists\n",
    "\n",
    "Create a new list containing only the even numbers from the list created in Assignment 1 using a list comprehension. Print the new list."
   ]
  },
  {
   "cell_type": "code",
   "execution_count": 8,
   "id": "4c07f3f4",
   "metadata": {},
   "outputs": [
    {
     "name": "stdout",
     "output_type": "stream",
     "text": [
      "[2, 4, 6, 8, 10, 12, 14, 16, 18, 20]\n"
     ]
    }
   ],
   "source": [
    "even_numbers = [num for num in first_20_positive_integer if num % 2 == 0]\n",
    "print(even_numbers)"
   ]
  },
  {
   "cell_type": "markdown",
   "id": "c26ea359",
   "metadata": {},
   "source": [
    "### Assignment 6: List Methods\n",
    "\n",
    "Create a list of random numbers and sort it in ascending and descending order. Remove the duplicates from the list and print the modified list."
   ]
  },
  {
   "cell_type": "code",
   "execution_count": 53,
   "id": "e750cbdc",
   "metadata": {},
   "outputs": [
    {
     "name": "stdout",
     "output_type": "stream",
     "text": [
      "[12, 5, 3, 7, 15, 12, 11, 17, 11, 20, 11, 14, 5, 14, 5]\n",
      "[3, 5, 5, 5, 7, 11, 11, 11, 12, 12, 14, 14, 15, 17, 20]\n",
      "[20, 17, 15, 14, 14, 12, 12, 11, 11, 11, 7, 5, 5, 5, 3]\n",
      "[3, 5, 7, 11, 12, 14, 15, 17, 20]\n"
     ]
    }
   ],
   "source": [
    "import random\n",
    "random_list = [random.randint(1, 20) for _ in range(15)]\n",
    "print(random_list)\n",
    "\n",
    "ascending_order = sorted(random_list)\n",
    "print(ascending_order)\n",
    "\n",
    "descending_order = sorted(random_list, reverse=True)\n",
    "print(descending_order)\n",
    "\n",
    "remove_duplicates = list(set(random_list))\n",
    "print(remove_duplicates)\n"
   ]
  },
  {
   "cell_type": "markdown",
   "id": "79d89c1a",
   "metadata": {},
   "source": [
    "### Assignment 7: Nested Lists\n",
    "\n",
    "Create a nested list representing a 3x3 matrix and print the matrix. Access and print the element at the second row and third column."
   ]
  },
  {
   "cell_type": "code",
   "execution_count": 38,
   "id": "ec22ed61",
   "metadata": {},
   "outputs": [
    {
     "name": "stdout",
     "output_type": "stream",
     "text": [
      "[[0, 1, 2], [1, 2, 3], [2, 3, 4]]\n",
      "3\n"
     ]
    }
   ],
   "source": [
    "matrix = [[row + col for col in range(3)] for row in range(3)]\n",
    "print(matrix)\n",
    "print(matrix[1][2])"
   ]
  },
  {
   "cell_type": "markdown",
   "id": "125c12f0",
   "metadata": {},
   "source": [
    "\n",
    "### Assignment 8: List of Dictionaries\n",
    "\n",
    "Create a list of dictionaries where each dictionary represents a student with keys 'name' and 'score'. Sort the list of dictionaries by the 'score' in descending order and print the sorted list."
   ]
  },
  {
   "cell_type": "code",
   "execution_count": 44,
   "id": "13938b8f",
   "metadata": {},
   "outputs": [
    {
     "name": "stdout",
     "output_type": "stream",
     "text": [
      "[{'name': 'Eve', 'score': 40}, {'name': 'Charlie', 'score': 35}, {'name': 'Alice', 'score': 30}, {'name': 'Bob', 'score': 25}, {'name': 'David', 'score': 20}]\n"
     ]
    }
   ],
   "source": [
    "list_of_dictionaries = [{\"name\": \"Alice\", \"score\": 30},{\"name\": \"Bob\", \"score\": 25}, {\"name\": \"Charlie\", \"score\": 35}, {\"name\": \"David\", \"score\": 20}, {\"name\": \"Eve\", \"score\": 40}]\n",
    "sorted_list_of_dict = sorted(list_of_dictionaries, key=lambda x: x['score'], reverse=True)\n",
    "print(sorted_list_of_dict)"
   ]
  },
  {
   "cell_type": "markdown",
   "id": "8afcdb63",
   "metadata": {},
   "source": [
    "### Assignment 9: Matrix Transposition\n",
    "\n",
    "Write a function that takes a 3x3 matrix (nested list) as input and returns its transpose. Print the original and transposed matrices."
   ]
  },
  {
   "cell_type": "code",
   "execution_count": 47,
   "id": "260d97ed",
   "metadata": {},
   "outputs": [
    {
     "name": "stdout",
     "output_type": "stream",
     "text": [
      "[[1, 0, 0], [1, 1, 1], [1, 2, 4]]\n",
      "[[1, 1, 1], [0, 1, 2], [0, 1, 4]]\n"
     ]
    }
   ],
   "source": [
    "matrix_1 = [[row ** col for col in range(3)] for row in range(3)] \n",
    "print(matrix_1)\n",
    "transposed_matrix = [[matrix_1[col][row] for col in range(3)] for row in range(3)]\n",
    "print(transposed_matrix)\n"
   ]
  },
  {
   "cell_type": "markdown",
   "id": "2fabc92e",
   "metadata": {},
   "source": [
    "### Assignment 10: Flattening a Nested List\n",
    "\n",
    "Write a function that takes a nested list and flattens it into a single list. Print the original and flattened lists."
   ]
  },
  {
   "cell_type": "code",
   "execution_count": 63,
   "id": "916ae8df",
   "metadata": {},
   "outputs": [
    {
     "name": "stdout",
     "output_type": "stream",
     "text": [
      "[1, 2, 3, 4, 5, 6, 7, 8]\n"
     ]
    }
   ],
   "source": [
    "nested_list = [[1], [2, [3, 4], 5], [6], [7, 8]]\n",
    "flatten = []\n",
    "def flatten_list(nested):\n",
    "    if(isinstance(nested, list)):\n",
    "        for item in nested:\n",
    "            flatten_list(item)\n",
    "    else:\n",
    "        flatten.append(nested)\n",
    "\n",
    "\n",
    "flatten_list(nested_list)\n",
    "print(flatten)"
   ]
  },
  {
   "cell_type": "markdown",
   "id": "5f62f3f3",
   "metadata": {},
   "source": [
    "### Assignment 11: List Manipulation\n",
    "\n",
    "Create a list of the first 10 positive integers. Remove the elements at indices 2, 4, and 6, and insert the element '99' at index 5. Print the modified list.\n"
   ]
  },
  {
   "cell_type": "code",
   "execution_count": 66,
   "id": "bbb79b6d",
   "metadata": {},
   "outputs": [
    {
     "name": "stdout",
     "output_type": "stream",
     "text": [
      "[1, 3, 5, 7, 8, 99, 9, 10]\n"
     ]
    }
   ],
   "source": [
    "ten_positive_integers = [num for num in range(1, 11)]\n",
    "ten_positive_integers.remove(2)\n",
    "ten_positive_integers.remove(4)\n",
    "ten_positive_integers.remove(6)\n",
    "ten_positive_integers.insert(5, 99)\n",
    "print(ten_positive_integers)\n"
   ]
  },
  {
   "cell_type": "markdown",
   "id": "4b346088",
   "metadata": {},
   "source": [
    "\n",
    "### Assignment 12: List Zipping\n",
    "\n",
    "Create two lists of the same length. Use the `zip` function to combine these lists into a list of tuples and print the result."
   ]
  },
  {
   "cell_type": "code",
   "execution_count": 72,
   "id": "be5889dc",
   "metadata": {},
   "outputs": [
    {
     "name": "stdout",
     "output_type": "stream",
     "text": [
      "[(1, 'a'), (2, 'b'), (3, 'c')]\n"
     ]
    }
   ],
   "source": [
    "l1 = [1, 2, 3]\n",
    "l2 = ['a', 'b', 'c']\n",
    "\n",
    "zipped = list(zip(l1, l2))\n",
    "print(zipped)"
   ]
  },
  {
   "cell_type": "markdown",
   "id": "9358bb4f",
   "metadata": {},
   "source": [
    "### Assignment 13: List Reversal\n",
    "\n",
    "Write a function that takes a list and returns a new list with the elements in reverse order. Print the original and reversed lists."
   ]
  },
  {
   "cell_type": "code",
   "execution_count": 73,
   "id": "9a565200",
   "metadata": {},
   "outputs": [
    {
     "name": "stdout",
     "output_type": "stream",
     "text": [
      "[0, 1, 2, 3, 4, 5, 6, 7]\n",
      "[7, 6, 5, 4, 3, 2, 1, 0]\n"
     ]
    }
   ],
   "source": [
    "lst1 = [i for i in range(8)]\n",
    "\n",
    "def reversed(l):\n",
    "    return l[::-1]\n",
    "\n",
    "reversed_lst = reversed(lst1)\n",
    "\n",
    "print(lst1)\n",
    "print(reversed_lst)"
   ]
  },
  {
   "cell_type": "markdown",
   "id": "3c447a74",
   "metadata": {},
   "source": [
    "\n",
    "### Assignment 14: List Rotation\n",
    "\n",
    "Write a function that rotates a list by n positions. Print the original and rotated lists."
   ]
  },
  {
   "cell_type": "code",
   "execution_count": 75,
   "id": "f6630329",
   "metadata": {},
   "outputs": [
    {
     "name": "stdout",
     "output_type": "stream",
     "text": [
      "[5, 6, 7, 8, 9, 0, 1, 2, 3, 4]\n"
     ]
    }
   ],
   "source": [
    "lst = [i for i in range(10)]\n",
    "position = 5\n",
    "\n",
    "def rotate_list(lst, pos):\n",
    "    return lst[pos:] + lst[:pos]\n",
    "\n",
    "rotate = rotate_list(lst, position)\n",
    "print(rotate)"
   ]
  },
  {
   "cell_type": "markdown",
   "id": "f0a52826",
   "metadata": {},
   "source": [
    "### Assignment 15: List Intersection\n",
    "\n",
    "Write a function that takes two lists and returns a new list containing only the elements that are present in both lists. Print the intersected list."
   ]
  },
  {
   "cell_type": "code",
   "execution_count": 81,
   "id": "bcba9930",
   "metadata": {},
   "outputs": [
    {
     "name": "stdout",
     "output_type": "stream",
     "text": [
      "[4, 5, 6]\n"
     ]
    }
   ],
   "source": [
    "list1 = [1,2,3,4,5,6]\n",
    "list2 = [4,5,6,7,8,9]\n",
    "\n",
    "def common_elements(l1, l2):\n",
    "    return [x for x in list1 if x in list2]\n",
    "\n",
    "print(common_elements(list1, list2))"
   ]
  }
 ],
 "metadata": {
  "kernelspec": {
   "display_name": "base",
   "language": "python",
   "name": "python3"
  },
  "language_info": {
   "codemirror_mode": {
    "name": "ipython",
    "version": 3
   },
   "file_extension": ".py",
   "mimetype": "text/x-python",
   "name": "python",
   "nbconvert_exporter": "python",
   "pygments_lexer": "ipython3",
   "version": "3.12.7"
  }
 },
 "nbformat": 4,
 "nbformat_minor": 5
}
