{
 "cells": [
  {
   "cell_type": "markdown",
   "metadata": {},
   "source": [
    "# Lesson 1.2: Python Basics\n",
    "## Topics Covered:\n",
    "- Syntax and Semantics\n",
    "- Variables and Data Types\n",
    "- Basic Operators (Arithmetic, Comparison, Logical)\n"
   ]
  },
  {
   "cell_type": "markdown",
   "metadata": {},
   "source": [
    "## 1. Syntax and Semantics\n",
    "\n",
    "**Question 1:** Write a Python program to print \"Hello, World!\"."
   ]
  },
  {
   "cell_type": "code",
   "execution_count": 1,
   "metadata": {},
   "outputs": [
    {
     "name": "stdout",
     "output_type": "stream",
     "text": [
      "hello world\n"
     ]
    }
   ],
   "source": [
    "# Your code here\n",
    "print(\"hello world\")"
   ]
  },
  {
   "cell_type": "markdown",
   "metadata": {},
   "source": [
    "**Question 2:** Write a Python program that takes a user input and prints it."
   ]
  },
  {
   "cell_type": "code",
   "execution_count": 3,
   "metadata": {},
   "outputs": [
    {
     "name": "stdout",
     "output_type": "stream",
     "text": [
      "Hello, Kamal!\n"
     ]
    }
   ],
   "source": [
    "# Your code here\n",
    "\n",
    "name = input(\"Enter your name: \")\n",
    "print(f\"Hello, {name}!\")"
   ]
  },
  {
   "cell_type": "markdown",
   "metadata": {},
   "source": [
    "**Question 3:** Write a Python program to check if a number is positive, negative, or zero."
   ]
  },
  {
   "cell_type": "code",
   "execution_count": 4,
   "metadata": {},
   "outputs": [
    {
     "name": "stdout",
     "output_type": "stream",
     "text": [
      "The number is positive.\n"
     ]
    }
   ],
   "source": [
    "# Your code here\n",
    "number = input(\"Enter a number: \")\n",
    "number = int(number)\n",
    "\n",
    "if(number > 0):\n",
    "    print(\"The number is positive.\")\n",
    "elif(number < 0):\n",
    "    print(\"The number is negative.\")\n",
    "else:\n",
    "    print(\"The number is zero.\")"
   ]
  },
  {
   "cell_type": "markdown",
   "metadata": {},
   "source": [
    "**Question 4:** Write a Python program to find the largest of three numbers."
   ]
  },
  {
   "cell_type": "code",
   "execution_count": 5,
   "metadata": {},
   "outputs": [
    {
     "name": "stdout",
     "output_type": "stream",
     "text": [
      "The largest number is 3\n"
     ]
    }
   ],
   "source": [
    "# Your code here\n",
    "num1 = int(input(\"Enter first number: \"))\n",
    "num2 = int(input(\"Enter second number: \"))\n",
    "num3 = int(input(\"Enter third number: \"))\n",
    "\n",
    "if(num1 >= num2) and (num1 >= num3):\n",
    "    print(f\"The largest number is {num1}\")\n",
    "elif(num2 >= num3):\n",
    "    print(f\"The largest number is {num2}\")\n",
    "else:\n",
    "    print(f\"The largest number is {num3}\")"
   ]
  },
  {
   "cell_type": "markdown",
   "metadata": {},
   "source": [
    "**Question 5:** Write a Python program to calculate the factorial of a number."
   ]
  },
  {
   "cell_type": "code",
   "execution_count": 9,
   "metadata": {},
   "outputs": [
    {
     "name": "stdout",
     "output_type": "stream",
     "text": [
      "The factorial of 4 is 24\n"
     ]
    }
   ],
   "source": [
    "# Your code here\n",
    "number = int(input(\"Enter a number: \"))\n",
    "factorial = 1\n",
    "for i in range(1, number + 1):\n",
    "    factorial *= i\n",
    "print(f\"The factorial of {number} is {factorial}\")"
   ]
  },
  {
   "cell_type": "markdown",
   "metadata": {},
   "source": [
    "## 2. Variables and Data Types\n",
    "\n",
    "**Question 6:** Create variables of different data types: integer, float, string, and boolean. Print their values and types."
   ]
  },
  {
   "cell_type": "code",
   "execution_count": 10,
   "metadata": {},
   "outputs": [
    {
     "name": "stdout",
     "output_type": "stream",
     "text": [
      "Integer: 10, Type: <class 'int'>\n",
      "Float: 10.5, Type: <class 'float'>\n",
      "String: abc, Type: <class 'str'>\n",
      "Boolean: True, Type: <class 'bool'>\n"
     ]
    }
   ],
   "source": [
    "# Your code here\n",
    "int_value = 10\n",
    "float_value = 10.5\n",
    "str_value = \"abc\"\n",
    "bool_value = True\n",
    "\n",
    "print(f\"Integer: {int_value}, Type: {type(int_value)}\")\n",
    "print(f\"Float: {float_value}, Type: {type(float_value)}\")   \n",
    "print(f\"String: {str_value}, Type: {type(str_value)}\")\n",
    "print(f\"Boolean: {bool_value}, Type: {type(bool_value)}\")"
   ]
  },
  {
   "cell_type": "markdown",
   "metadata": {},
   "source": [
    "**Question 7:** Write a Python program to swap the values of two variables."
   ]
  },
  {
   "cell_type": "code",
   "execution_count": 13,
   "metadata": {},
   "outputs": [
    {
     "name": "stdout",
     "output_type": "stream",
     "text": [
      "a: 10, b: 2\n",
      "a: 2, b: 10\n"
     ]
    }
   ],
   "source": [
    "# Your code here\n",
    "a = 10\n",
    "b = 2\n",
    "\n",
    "# Method 1:\n",
    "# a,b = b,a\n",
    "print(f\"a: {a}, b: {b}\")\n",
    "\n",
    "# Method 2:\n",
    "a = a + b\n",
    "b = a - b\n",
    "a = a - b\n",
    "\n",
    "print(f\"a: {a}, b: {b}\")"
   ]
  },
  {
   "cell_type": "markdown",
   "metadata": {},
   "source": [
    "**Question 8:** Write a Python program to convert Celsius to Fahrenheit."
   ]
  },
  {
   "cell_type": "code",
   "execution_count": 17,
   "metadata": {},
   "outputs": [
    {
     "name": "stdout",
     "output_type": "stream",
     "text": [
      "34°C is equal to 93.2°F\n"
     ]
    }
   ],
   "source": [
    "# Your code here\n",
    "# °F = (9/5 × °C) + 32\n",
    "c = int(input(\"Enter temperature in Celsius: \"))\n",
    "f = (9/5 * c) + 32\n",
    "print(f\"{c}°C is equal to {f}°F\")"
   ]
  },
  {
   "cell_type": "markdown",
   "metadata": {},
   "source": [
    "<!-- **Question 9:** Write a Python program to concatenate two strings. -->"
   ]
  },
  {
   "cell_type": "markdown",
   "metadata": {},
   "source": [
    "**Question 9:** Write a Python program to concatenate two strings."
   ]
  },
  {
   "cell_type": "code",
   "execution_count": 19,
   "metadata": {},
   "outputs": [
    {
     "name": "stdout",
     "output_type": "stream",
     "text": [
      "The concatenated string is: abc xyz\n"
     ]
    }
   ],
   "source": [
    "# Your code here\n",
    "\n",
    "str1 = \"abc\"\n",
    "st2 = \"xyz\"\n",
    "result = str1 + \" \" + st2\n",
    "\n",
    "print(f\"The concatenated string is: {result}\")"
   ]
  },
  {
   "cell_type": "markdown",
   "metadata": {},
   "source": [
    "**Question 10:** Write a Python program to check if a variable is of a specific data type."
   ]
  },
  {
   "cell_type": "code",
   "execution_count": null,
   "metadata": {},
   "outputs": [
    {
     "name": "stdout",
     "output_type": "stream",
     "text": [
      "10.5 is a float\n"
     ]
    }
   ],
   "source": [
    "# Your code here\n",
    "var = 10.5\n",
    "\n",
    "#  Method 1:\n",
    "\n",
    "# if isinstance(var, float):\n",
    "#     print(f\"{var} is a float\")\n",
    "# else:\n",
    "#     print(f\"{var} is not a float\")\n",
    "\n",
    "# Method 2:\n",
    "\n",
    "if(type(var) == float):\n",
    "    print(f\"{var} is a float\")\n",
    "else:\n",
    "    print(f\"{var} is not a float\")"
   ]
  },
  {
   "cell_type": "markdown",
   "metadata": {},
   "source": [
    "## 3. Basic Operators (Arithmetic, Comparison, Logical)\n",
    "\n",
    "**Question 11:** Write a Python program to perform arithmetic operations: addition, subtraction, multiplication, and division."
   ]
  },
  {
   "cell_type": "code",
   "execution_count": 25,
   "metadata": {},
   "outputs": [
    {
     "name": "stdout",
     "output_type": "stream",
     "text": [
      "Addition: 13\n",
      "Subtraction: 7\n",
      "Multiplication: 30\n",
      "Division: 3.3333333333333335\n",
      "Floor Division: 3\n",
      "Modulus: 1\n",
      "Exponentiation: 1000\n"
     ]
    }
   ],
   "source": [
    "# Your code here\n",
    "a = 10\n",
    "b = 3\n",
    "\n",
    "add = a + b\n",
    "sub = a - b\n",
    "mul = a * b \n",
    "div = a / b\n",
    "floor_div = a // b\n",
    "mod = a % b\n",
    "pow = a ** b\n",
    "\n",
    "print(f\"Addition: {add}\")\n",
    "print(f\"Subtraction: {sub}\")\n",
    "print(f\"Multiplication: {mul}\")\n",
    "print(f\"Division: {div}\")\n",
    "print(f\"Floor Division: {floor_div}\")\n",
    "print(f\"Modulus: {mod}\")\n",
    "print(f\"Exponentiation: {pow}\")"
   ]
  },
  {
   "cell_type": "markdown",
   "metadata": {},
   "source": [
    "**Question 12:** Write a Python program to demonstrate comparison operators: equal to, not equal to, greater than, less than."
   ]
  },
  {
   "cell_type": "code",
   "execution_count": 26,
   "metadata": {},
   "outputs": [
    {
     "name": "stdout",
     "output_type": "stream",
     "text": [
      "a == b: False\n",
      "a != b: True\n",
      "a > b: True\n",
      "a < b: False\n",
      "a >= b: True\n",
      "a <= b: False\n"
     ]
    }
   ],
   "source": [
    "# Your code here\n",
    "\n",
    "a = 20 \n",
    "b = 12\n",
    "\n",
    "equal_to = (a == b)\n",
    "not_equal_to = (a != b)\n",
    "greater_than = (a > b)\n",
    "less_than = (a < b)\n",
    "greater_than_equal_to = (a >= b)\n",
    "less_than_equal_to = (a <= b)\n",
    "\n",
    "print(f\"a == b: {equal_to}\")\n",
    "print(f\"a != b: {not_equal_to}\")\n",
    "print(f\"a > b: {greater_than}\")\n",
    "print(f\"a < b: {less_than}\")\n",
    "print(f\"a >= b: {greater_than_equal_to}\")\n",
    "print(f\"a <= b: {less_than_equal_to}\")"
   ]
  },
  {
   "cell_type": "markdown",
   "metadata": {},
   "source": [
    "**Question 13:** Write a Python program to demonstrate logical operators: and, or, not."
   ]
  },
  {
   "cell_type": "code",
   "execution_count": 27,
   "metadata": {},
   "outputs": [
    {
     "name": "stdout",
     "output_type": "stream",
     "text": [
      "a and b: False\n",
      "a or b: True\n",
      "not a: False\n"
     ]
    }
   ],
   "source": [
    "# Your code here\n",
    "\n",
    "a = True\n",
    "b = False\n",
    "\n",
    "and_result = a and b\n",
    "or_result = a or b\n",
    "not_a = not a\n",
    "\n",
    "print(f\"a and b: {and_result}\")\n",
    "print(f\"a or b: {or_result}\")\n",
    "print(f\"not a: {not_a}\")"
   ]
  },
  {
   "cell_type": "markdown",
   "metadata": {},
   "source": [
    "**Question 14:** Write a Python program to calculate the square of a number."
   ]
  },
  {
   "cell_type": "code",
   "execution_count": 28,
   "metadata": {},
   "outputs": [
    {
     "name": "stdout",
     "output_type": "stream",
     "text": [
      "The square of 12 is 144\n"
     ]
    }
   ],
   "source": [
    "# Your code here\n",
    "\n",
    "a = 12\n",
    "\n",
    "square = a ** 2\n",
    "print(f\"The square of {a} is {square}\")"
   ]
  },
  {
   "cell_type": "markdown",
   "metadata": {},
   "source": [
    "**Question 15:** Write a Python program to check if a number is even or odd."
   ]
  },
  {
   "cell_type": "code",
   "execution_count": 29,
   "metadata": {},
   "outputs": [
    {
     "name": "stdout",
     "output_type": "stream",
     "text": [
      "1 is odd\n"
     ]
    }
   ],
   "source": [
    "# Your code here\n",
    "number = 1\n",
    "\n",
    "if number % 2 == 0:\n",
    "    print(f\"{number} is even\")\n",
    "else:\n",
    "    print(f\"{number} is odd\")"
   ]
  },
  {
   "cell_type": "markdown",
   "metadata": {},
   "source": [
    "**Question 16:** Write a Python program to find the sum of the first n natural numbers."
   ]
  },
  {
   "cell_type": "code",
   "execution_count": 33,
   "metadata": {},
   "outputs": [
    {
     "name": "stdout",
     "output_type": "stream",
     "text": [
      "1 2 3 4 5 "
     ]
    }
   ],
   "source": [
    "# Your code here\n",
    "def natural_numbers(n):\n",
    "    for i in range(1, n + 1):\n",
    "        print(i, end=\" \")\n",
    "        \n",
    "natural_numbers(5)"
   ]
  },
  {
   "cell_type": "markdown",
   "metadata": {},
   "source": [
    "**Question 17:** Write a Python program to check if a year is a leap year."
   ]
  },
  {
   "cell_type": "code",
   "execution_count": 37,
   "metadata": {},
   "outputs": [
    {
     "name": "stdout",
     "output_type": "stream",
     "text": [
      "1900 is not a leap year\n"
     ]
    }
   ],
   "source": [
    "# Your code here\n",
    "year = 1900\n",
    "if((year % 4 == 0 and year % 100 != 0) or (year % 400 == 0)):\n",
    "    print(f\"{year} is a leap year\")\n",
    "else:\n",
    "    print(f\"{year} is not a leap year\")"
   ]
  },
  {
   "cell_type": "markdown",
   "metadata": {},
   "source": [
    "**Question 18:** Write a Python program to reverse a string."
   ]
  },
  {
   "cell_type": "code",
   "execution_count": 38,
   "metadata": {},
   "outputs": [
    {
     "name": "stdout",
     "output_type": "stream",
     "text": [
      "!dlroW ,olleH\n"
     ]
    }
   ],
   "source": [
    "# Your code here\n",
    "str= \"Hello, World!\"\n",
    "print(str[::-1])"
   ]
  },
  {
   "cell_type": "markdown",
   "metadata": {},
   "source": [
    "**Question 19:** Write a Python program to check if a string is a palindrome."
   ]
  },
  {
   "cell_type": "code",
   "execution_count": 40,
   "metadata": {},
   "outputs": [
    {
     "name": "stdout",
     "output_type": "stream",
     "text": [
      "Is the string a palindrome? True\n"
     ]
    }
   ],
   "source": [
    "# Your code here\n",
    "str = \"naman\"\n",
    "is_palindrome = str == str[::-1]\n",
    "print(f\"Is the string a palindrome? {is_palindrome}\")"
   ]
  },
  {
   "cell_type": "markdown",
   "metadata": {},
   "source": [
    "**Question 20:** Write a Python program to sort a list of numbers in ascending order."
   ]
  },
  {
   "cell_type": "code",
   "execution_count": 41,
   "metadata": {},
   "outputs": [
    {
     "name": "stdout",
     "output_type": "stream",
     "text": [
      "The sorted list is: [9, 12, 24, 35, 56]\n"
     ]
    }
   ],
   "source": [
    "# Your code here\n",
    "a = [12, 35, 9, 56, 24]\n",
    "a.sort()\n",
    "print(f\"The sorted list is: {a}\")"
   ]
  }
 ],
 "metadata": {
  "kernelspec": {
   "display_name": "Python 3",
   "language": "python",
   "name": "python3"
  },
  "language_info": {
   "codemirror_mode": {
    "name": "ipython",
    "version": 3
   },
   "file_extension": ".py",
   "mimetype": "text/x-python",
   "name": "python",
   "nbconvert_exporter": "python",
   "pygments_lexer": "ipython3",
   "version": "3.12.4"
  }
 },
 "nbformat": 4,
 "nbformat_minor": 4
}
